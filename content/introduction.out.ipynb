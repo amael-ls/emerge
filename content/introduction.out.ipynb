{
 "cells": [
  {
   "cell_type": "markdown",
   "metadata": {},
   "source": [
    "# Testing the model of @Westfall2023\n",
    "\n",
    "Amaël Le Squin [![](data:image/png;base64,iVBORw0KGgoAAAANSUhEUgAAABAAAAAQCAYAAAAf8/9hAAAAGXRFWHRTb2Z0d2FyZQBBZG9iZSBJbWFnZVJlYWR5ccllPAAAA2ZpVFh0WE1MOmNvbS5hZG9iZS54bXAAAAAAADw/eHBhY2tldCBiZWdpbj0i77u/IiBpZD0iVzVNME1wQ2VoaUh6cmVTek5UY3prYzlkIj8+IDx4OnhtcG1ldGEgeG1sbnM6eD0iYWRvYmU6bnM6bWV0YS8iIHg6eG1wdGs9IkFkb2JlIFhNUCBDb3JlIDUuMC1jMDYwIDYxLjEzNDc3NywgMjAxMC8wMi8xMi0xNzozMjowMCAgICAgICAgIj4gPHJkZjpSREYgeG1sbnM6cmRmPSJodHRwOi8vd3d3LnczLm9yZy8xOTk5LzAyLzIyLXJkZi1zeW50YXgtbnMjIj4gPHJkZjpEZXNjcmlwdGlvbiByZGY6YWJvdXQ9IiIgeG1sbnM6eG1wTU09Imh0dHA6Ly9ucy5hZG9iZS5jb20veGFwLzEuMC9tbS8iIHhtbG5zOnN0UmVmPSJodHRwOi8vbnMuYWRvYmUuY29tL3hhcC8xLjAvc1R5cGUvUmVzb3VyY2VSZWYjIiB4bWxuczp4bXA9Imh0dHA6Ly9ucy5hZG9iZS5jb20veGFwLzEuMC8iIHhtcE1NOk9yaWdpbmFsRG9jdW1lbnRJRD0ieG1wLmRpZDo1N0NEMjA4MDI1MjA2ODExOTk0QzkzNTEzRjZEQTg1NyIgeG1wTU06RG9jdW1lbnRJRD0ieG1wLmRpZDozM0NDOEJGNEZGNTcxMUUxODdBOEVCODg2RjdCQ0QwOSIgeG1wTU06SW5zdGFuY2VJRD0ieG1wLmlpZDozM0NDOEJGM0ZGNTcxMUUxODdBOEVCODg2RjdCQ0QwOSIgeG1wOkNyZWF0b3JUb29sPSJBZG9iZSBQaG90b3Nob3AgQ1M1IE1hY2ludG9zaCI+IDx4bXBNTTpEZXJpdmVkRnJvbSBzdFJlZjppbnN0YW5jZUlEPSJ4bXAuaWlkOkZDN0YxMTc0MDcyMDY4MTE5NUZFRDc5MUM2MUUwNEREIiBzdFJlZjpkb2N1bWVudElEPSJ4bXAuZGlkOjU3Q0QyMDgwMjUyMDY4MTE5OTRDOTM1MTNGNkRBODU3Ii8+IDwvcmRmOkRlc2NyaXB0aW9uPiA8L3JkZjpSREY+IDwveDp4bXBtZXRhPiA8P3hwYWNrZXQgZW5kPSJyIj8+84NovQAAAR1JREFUeNpiZEADy85ZJgCpeCB2QJM6AMQLo4yOL0AWZETSqACk1gOxAQN+cAGIA4EGPQBxmJA0nwdpjjQ8xqArmczw5tMHXAaALDgP1QMxAGqzAAPxQACqh4ER6uf5MBlkm0X4EGayMfMw/Pr7Bd2gRBZogMFBrv01hisv5jLsv9nLAPIOMnjy8RDDyYctyAbFM2EJbRQw+aAWw/LzVgx7b+cwCHKqMhjJFCBLOzAR6+lXX84xnHjYyqAo5IUizkRCwIENQQckGSDGY4TVgAPEaraQr2a4/24bSuoExcJCfAEJihXkWDj3ZAKy9EJGaEo8T0QSxkjSwORsCAuDQCD+QILmD1A9kECEZgxDaEZhICIzGcIyEyOl2RkgwAAhkmC+eAm0TAAAAABJRU5ErkJggg==)](https://orcid.org/0000-0003-3516-4155) (Institut national de l’information géographique et forestière)  \n",
    "December 13, 2024\n",
    "\n",
    "## Introduction\n",
    "\n",
    "The European Union developed a [New EU Forest Strategy for 2030](https://eur-lex.europa.eu/legal-content/EN/TXT/?uri=CELEX:52021DC0572) as part of the plan to adapt to and fight against climate change and make Europe a climate neutral continent by 2050. This strategy relies on improved monitoring of European forests to better understand their condition and respond accordingly. Specifically, it calls for assessing carbon sequestration in forests to evaluate whether or not Europe reached carbon neutrality. One bottleneck is the harmonisation of the forest monitoring methods between European member states, if not within them. The [PathFinder project](https://pathfinder-heu.eu/#top) supports member states in implementing a European Forest Monitoring System in order to standardise or harmonise forest data collection and reporting across the EU. This prompted the Institut National de l’information Géographique et forestière (IGN), which is in charge of the French National Forest Inventory (NFI) data, to update its methods for assessing forest carbon storage.\n",
    "\n",
    "In most countries, carbon content is estimated via two quantities: (*i*) the volume in , and (*ii*) the wood density in . However, often numerous models and methods are currently used across countries, contingent upon the tree species and geographic location within each country ([Westfall et al. 2023](#ref-Westfall2023); [Longuetaud et al. 2013](#ref-Longuetaud2013); [Gregoire and Schabenberger 1996](#ref-Gregoire1996)), but also the definition of tree parts ([Gschwantner et al. 2009](#ref-Gschwantner2009)).\n",
    "\n",
    "Gregoire, Timothy G., and Oliver Schabenberger. 1996. “A Non-Linear Mixed-Effects Model to Predict Cumulative Bole Volume of Standing Trees.” *Journal of Applied Statistics* 23 (2–3): 257–72. <https://doi.org/10.1080/02664769624233>.\n",
    "\n",
    "Gschwantner, Thomas, Klemens Schadauer, Claude Vidal, Adrian Lanz, Erkki Tomppo, Lucio di Cosmo, Nicolas Robert, Daisy Englert Duursma, and Mark Lawrence. 2009. “Common Tree Definitions for National Forest Inventories in Europe.” *Silva Fennica* 43 (2). <https://doi.org/10.14214/sf.463>.\n",
    "\n",
    "Longuetaud, Fleur, Philippe Santenoise, Frédéric Mothe, Tristan Senga Kiessé, Michaël Rivoire, Laurent Saint-André, Nina Ognouabi, and Christine Deleuze. 2013. “Modeling Volume Expansion Factors for Temperate Tree Species in France.” *Forest Ecology and Management* 292: 111–21. <https://doi.org/10.1016/j.foreco.2012.12.023>.\n",
    "\n",
    "Westfall, James A., John W. Coulston, Andrew N. Gray, John D. Shaw, Philip J. Radtke, David M. Walker, Aaron R. Weiskittel, et al. 2023. “A National-Scale Tree Volume, Biomass, and Carbon Modeling System for the United States.” *Gen. Tech. Rep. WO-104. Washington, DC: U.S. Department of Agriculture, Forest Service.* 104. <https://doi.org/10.2737/wo-gtr-104>."
   ],
   "id": "6c934718-4eec-4948-a92a-70cade479145"
  }
 ],
 "nbformat": 4,
 "nbformat_minor": 5,
 "metadata": {}
}
